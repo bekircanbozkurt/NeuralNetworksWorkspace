{
 "cells": [
  {
   "cell_type": "code",
   "execution_count": 3,
   "id": "ff3eb797",
   "metadata": {},
   "outputs": [
    {
     "name": "stdout",
     "output_type": "stream",
     "text": [
      "tensor([[0.4312],\n",
      "        [0.4450]], grad_fn=<MulBackward0>)\n"
     ]
    }
   ],
   "source": [
    "import torch\n",
    "\n",
    "# Seed degerimizi ogrenci numaramiz olarak tanimliyoruz.\n",
    "torch.manual_seed(210401001)\n",
    "\n",
    "# Input olarak soruda belirtilen matrisi kullanip tensor haline getiriyoruz.\n",
    "X = torch.tensor([[1, 2, 3], [4, 5, 6]]).float()\n",
    "\n",
    "\n",
    "# Soruda istenilen uzere kendi Tanh fonksiyonumuzu tanimliyoruz.\n",
    "def tanhFunc(x):\n",
    "\n",
    "    return (torch.exp(x) - torch.exp(-x)) / (torch.exp(x) + torch.exp(-x))\n",
    "\n",
    "\n",
    "# Soruda istenilen uzere kendi Sigmoid fonksiyonumuzu tanimliyoruz.\n",
    "def sigmoidFunc(x):\n",
    "    return 1 / (1 + torch.exp(-x))\n",
    "\n",
    "\n",
    "class NeuralNetwork(torch.nn.Module):\n",
    "\n",
    "    def __init__(self):\n",
    "        super(NeuralNetwork, self).__init__()\n",
    "\n",
    "        # Hidden layer burada tanimlaniyor.\n",
    "        self.hidden_layer = torch.nn.Linear(3, 50)\n",
    "\n",
    "        # Output layer burada tanimlaniyor.\n",
    "        self.output_layer = torch.nn.Linear(50, 1)\n",
    "\n",
    "    def forward(self, x):\n",
    "\n",
    "        # Hidden layer ile Tanh fonksiyonu aktive ediliyor.\n",
    "        hidden = tanhFunc(self.hidden_layer(x))\n",
    "        # Output layer ile Sigmoid fonksiyonu aktive ediliyor.\n",
    "        output = sigmoidFunc(self.output_layer(hidden))\n",
    "\n",
    "        return output\n",
    "\n",
    "\n",
    "# Kendi networkumuzu initialize ediyoruz.\n",
    "net = NeuralNetwork()\n",
    "output = net(X)\n",
    "\n",
    "print(output)\n"
   ]
  }
 ],
 "metadata": {
  "kernelspec": {
   "display_name": "Python 3 (ipykernel)",
   "language": "python",
   "name": "python3"
  },
  "language_info": {
   "codemirror_mode": {
    "name": "ipython",
    "version": 3
   },
   "file_extension": ".py",
   "mimetype": "text/x-python",
   "name": "python",
   "nbconvert_exporter": "python",
   "pygments_lexer": "ipython3",
   "version": "3.11.2"
  }
 },
 "nbformat": 4,
 "nbformat_minor": 5
}
